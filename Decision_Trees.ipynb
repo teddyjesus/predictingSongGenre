{
  "nbformat": 4,
  "nbformat_minor": 0,
  "metadata": {
    "colab": {
      "name": "Decision Trees.ipynb",
      "provenance": [],
      "collapsed_sections": [],
      "mount_file_id": "1nnLvYhyFG3gGe4Ej6GN2e84pju-gb4oI",
      "authorship_tag": "ABX9TyNzuDDm/2PatZ//RMN+9ewz"
    },
    "kernelspec": {
      "name": "python3",
      "display_name": "Python 3"
    }
  },
  "cells": [
    {
      "cell_type": "code",
      "metadata": {
        "id": "OJYRTAXTx9mg",
        "colab_type": "code",
        "colab": {}
      },
      "source": [
        "import pandas as pd\n",
        "import numpy as np\n",
        "import matplotlib.pyplot as plt\n",
        "import patsy\n",
        "\n",
        "from sklearn.tree import DecisionTreeRegressor,DecisionTreeClassifier\n",
        "\n",
        "#For visualizing trees:\n",
        "from sklearn.externals.six import StringIO  \n",
        "from IPython.display import Image  \n",
        "from sklearn.tree import export_graphviz\n",
        "import pydotplus"
      ],
      "execution_count": 0,
      "outputs": []
    },
    {
      "cell_type": "markdown",
      "metadata": {
        "id": "If3Wg0Zuo-HY",
        "colab_type": "text"
      },
      "source": [
        "*Tree-based* methods involve stratifying the feature space into several regions. These models are simple and useful for interpretation, but they don't perform as well as other methods in terms of prediction accuracy. However, the combination of a large number of trees can improve accuracy at the expense of interpretability."
      ]
    },
    {
      "cell_type": "markdown",
      "metadata": {
        "id": "vausSQIntLFX",
        "colab_type": "text"
      },
      "source": [
        "### **Regression Trees**\n",
        "\n",
        "**General Setup**\n",
        "\n",
        "1. We divide the feature space into $J$ distinct and non-overlapping regions $R_1,R_2,...,R_J$.\n",
        "2. For every observation that falls into some region $R_i$ for $i=1,2,...J$, we make the same prediction: the mean of the response values for the training observations in $R_i$.\n",
        "\n",
        "The regions can have any shape in principle. **By convention, we divide them into \"high-dimensional rectangles,\" or *boxes***, for simplicity and interpretation. The goal is to find the boxes $R_1,R_2,...,R_J$ that minimize\n",
        "\n",
        "$$RSS=\\sum^J_{J=1} \\sum_{i \\in R_J} (y_i - \\hat{y}_{R_J})^2$$\n",
        "\n",
        "where $\\hat{y}_{R_J}$ is the mean response for the training observations within the $jth$ box.\n",
        "\n",
        "Suppose we only have two features $X_1$ and $X_2$ that we divided $7$ regions $R_1,R_2,...,R_7$, then a decision tree will look something like this:\n",
        "\n",
        "![picture](https://github.com/teddyjesus/treeBasedMethods/blob/master/decisionTreeGraphic.png)\n",
        "\n",
        "In practice, it's inefficient to consider every possible partition of the feature space into $J$ boxes. Instead, we take a \"top-down, greedy approach\" known as recursive binary splitting."
      ]
    },
    {
      "cell_type": "markdown",
      "metadata": {
        "id": "8WMWwLBHLfDH",
        "colab_type": "text"
      },
      "source": [
        "**Recursive Binary Splitting**\n",
        "\n",
        "1. We first select the feature $X_j$ and the cutpoint $s$ such that splitting the feature space into the regions $\\{X|X_j < s\\}$ and $\\{X|X_j \\geq s\\}$ leads to the greatest reduction in $RSS$.\n",
        "\n",
        "  - Considering all features $X_1,X_2,...,X_p$ and all possible cutpoints $s$ for each feature, the feature and cutpoint that results in the lowest $RSS$ is chosen. \n",
        "\n",
        "For any $j$ and $s$, let the **half-planes** be defined as\n",
        "\n",
        "$$R_1(j,s)=\\{X|X_j < s\\}$$ $$and$$ $$R_2(j,s)=\\{X|X_j \\geq s\\}$$\n",
        "\n",
        "Then, we seek the value of $j$ and $s$ that minimizes\n",
        "\n",
        "$$\\sum_{i=x_i \\in R_1(j,s)} (y_i - \\hat{y}_{R_1})^2 + \\sum_{i=x_i \\in R_2(j,s)} (y_i - \\hat{y}_{R_2})^2$$\n",
        "\n",
        "2. The process above is repeated as we look for the best feature and cutpoint in order to further split the data for the lowest $RSS$, but this time one of the two previously identified regions is split. Now having three regions in total, we again split one of them into two (and so on). This continues until a **stopping criterion** is reached (i.e., until no region contains more than five observations). \n",
        "\n",
        "**Recursive binary splitting may produce good predictions on the training data, but is likely to suffer from overfitting due to the tree being too complex.** At the expense of slightly greater bias, a smaller tree with fewer regions might lead to a lower variance. \n",
        "\n",
        "*Alternative 1:* Build a tree only so long as the decrease in $RSS$ due to each split exceeds some threshold. This yields smaller trees. However, it may be the case that there is a split later on that leads to a significant reduction in $RSS$. \n",
        "\n",
        "*Alternative 2:* Grow a very large tree $T_0$, then prune it back in order to obtain a subtree. This approach is known as tree pruning.\n",
        "\n",
        "Consider *Alternative 2* for creating decision trees where we select a subtree with the lowest test error rate. Given a subtree, the test error can be estimated using cross-validation. However, it's too complex to consider all possible subtrees. \n",
        "\n",
        "Instead, through **cost-complexicity tree pruning**, a small set of subtrees indexed by a nonnegative **tuning parameter** $\\alpha$ can be taken into consideration. "
      ]
    },
    {
      "cell_type": "markdown",
      "metadata": {
        "id": "StDbHamdqtML",
        "colab_type": "text"
      },
      "source": [
        "**The Algorithm Behind Building Regression Trees**\n",
        "\n",
        "1. Grow a large tree $T_0$ on the training data using recursive binary splitting, stopping only when each **terminal node** has fewer than some minimum number of observations (the stopping criterion).\n",
        "2. Obtain a sequence of best subtrees as a function of the tuning parameter $\\alpha$ using cost-complexicity tree pruning.\n",
        "3. Choose $\\alpha$ using $K$-fold cross-validation. For each $k=1,2,...K$:\n",
        "\n",
        "  - Repeat Steps $1$ and $2$ on all but the $kth$ fold of the training data.\n",
        "  - Evaluate the mean squared prediction error on the test data in the left-out $kth$ fold as a function of $\\alpha$.\n",
        "\n",
        "Average the results for each value of $\\alpha$ and pick the one that minimizes the average error.\n",
        "\n",
        "4. Choose the subtree from Step $2$ that corresponds to the chosen $\\alpha$.\n",
        "\n",
        "Note that for each $\\alpha$, there corresponds a subtree $T \\subset T_0$ such that\n",
        "\n",
        "$$ \\sum^{|T|}_{m=1} \\sum_{x_i \\in R_m} (y_i - \\hat{y}_{R_1})^2 + \\alpha|T|$$\n",
        "\n",
        "is as small as possible. \n",
        "\n",
        "- $|T|$ is the number of terminal nodes of $T$. \n",
        "- $R_m$ is the rectangle/box (the subset of feature space) that corresponds to the $mth$ terminal node\n",
        "\n",
        "**$\\alpha$ controls the trade-off between the subtree's complexicity and its fit to the training data. Notice that $T = T_0$ when $\\alpha=0$.**"
      ]
    },
    {
      "cell_type": "markdown",
      "metadata": {
        "id": "u73z6qetvDm4",
        "colab_type": "text"
      },
      "source": [
        "**Short Demo: Predicting the Salary of Major League Baseball Players**"
      ]
    },
    {
      "cell_type": "code",
      "metadata": {
        "id": "5LS6c03l1o-_",
        "colab_type": "code",
        "colab": {
          "base_uri": "https://localhost:8080/",
          "height": 309
        },
        "outputId": "57d92712-aab1-4d53-89e0-821c8eff3057"
      },
      "source": [
        "data = pd.read_csv(\"https://raw.githubusercontent.com/teddyjesus/treeBasedMethods/master/Hitters.csv\")\n",
        "data.rename(columns={\"Unnamed: 0\":\"Player\"},inplace=True)\n",
        "\n",
        "data=data.dropna()\n",
        "data[\"logSalary\"] = np.log(data[\"Salary\"])\n",
        "data.head()"
      ],
      "execution_count": 2,
      "outputs": [
        {
          "output_type": "execute_result",
          "data": {
            "text/html": [
              "<div>\n",
              "<style scoped>\n",
              "    .dataframe tbody tr th:only-of-type {\n",
              "        vertical-align: middle;\n",
              "    }\n",
              "\n",
              "    .dataframe tbody tr th {\n",
              "        vertical-align: top;\n",
              "    }\n",
              "\n",
              "    .dataframe thead th {\n",
              "        text-align: right;\n",
              "    }\n",
              "</style>\n",
              "<table border=\"1\" class=\"dataframe\">\n",
              "  <thead>\n",
              "    <tr style=\"text-align: right;\">\n",
              "      <th></th>\n",
              "      <th>Player</th>\n",
              "      <th>AtBat</th>\n",
              "      <th>Hits</th>\n",
              "      <th>HmRun</th>\n",
              "      <th>Runs</th>\n",
              "      <th>RBI</th>\n",
              "      <th>Walks</th>\n",
              "      <th>Years</th>\n",
              "      <th>CAtBat</th>\n",
              "      <th>CHits</th>\n",
              "      <th>CHmRun</th>\n",
              "      <th>CRuns</th>\n",
              "      <th>CRBI</th>\n",
              "      <th>CWalks</th>\n",
              "      <th>League</th>\n",
              "      <th>Division</th>\n",
              "      <th>PutOuts</th>\n",
              "      <th>Assists</th>\n",
              "      <th>Errors</th>\n",
              "      <th>Salary</th>\n",
              "      <th>NewLeague</th>\n",
              "      <th>logSalary</th>\n",
              "    </tr>\n",
              "  </thead>\n",
              "  <tbody>\n",
              "    <tr>\n",
              "      <th>1</th>\n",
              "      <td>-Alan Ashby</td>\n",
              "      <td>315</td>\n",
              "      <td>81</td>\n",
              "      <td>7</td>\n",
              "      <td>24</td>\n",
              "      <td>38</td>\n",
              "      <td>39</td>\n",
              "      <td>14</td>\n",
              "      <td>3449</td>\n",
              "      <td>835</td>\n",
              "      <td>69</td>\n",
              "      <td>321</td>\n",
              "      <td>414</td>\n",
              "      <td>375</td>\n",
              "      <td>N</td>\n",
              "      <td>W</td>\n",
              "      <td>632</td>\n",
              "      <td>43</td>\n",
              "      <td>10</td>\n",
              "      <td>475.0</td>\n",
              "      <td>N</td>\n",
              "      <td>6.163315</td>\n",
              "    </tr>\n",
              "    <tr>\n",
              "      <th>2</th>\n",
              "      <td>-Alvin Davis</td>\n",
              "      <td>479</td>\n",
              "      <td>130</td>\n",
              "      <td>18</td>\n",
              "      <td>66</td>\n",
              "      <td>72</td>\n",
              "      <td>76</td>\n",
              "      <td>3</td>\n",
              "      <td>1624</td>\n",
              "      <td>457</td>\n",
              "      <td>63</td>\n",
              "      <td>224</td>\n",
              "      <td>266</td>\n",
              "      <td>263</td>\n",
              "      <td>A</td>\n",
              "      <td>W</td>\n",
              "      <td>880</td>\n",
              "      <td>82</td>\n",
              "      <td>14</td>\n",
              "      <td>480.0</td>\n",
              "      <td>A</td>\n",
              "      <td>6.173786</td>\n",
              "    </tr>\n",
              "    <tr>\n",
              "      <th>3</th>\n",
              "      <td>-Andre Dawson</td>\n",
              "      <td>496</td>\n",
              "      <td>141</td>\n",
              "      <td>20</td>\n",
              "      <td>65</td>\n",
              "      <td>78</td>\n",
              "      <td>37</td>\n",
              "      <td>11</td>\n",
              "      <td>5628</td>\n",
              "      <td>1575</td>\n",
              "      <td>225</td>\n",
              "      <td>828</td>\n",
              "      <td>838</td>\n",
              "      <td>354</td>\n",
              "      <td>N</td>\n",
              "      <td>E</td>\n",
              "      <td>200</td>\n",
              "      <td>11</td>\n",
              "      <td>3</td>\n",
              "      <td>500.0</td>\n",
              "      <td>N</td>\n",
              "      <td>6.214608</td>\n",
              "    </tr>\n",
              "    <tr>\n",
              "      <th>4</th>\n",
              "      <td>-Andres Galarraga</td>\n",
              "      <td>321</td>\n",
              "      <td>87</td>\n",
              "      <td>10</td>\n",
              "      <td>39</td>\n",
              "      <td>42</td>\n",
              "      <td>30</td>\n",
              "      <td>2</td>\n",
              "      <td>396</td>\n",
              "      <td>101</td>\n",
              "      <td>12</td>\n",
              "      <td>48</td>\n",
              "      <td>46</td>\n",
              "      <td>33</td>\n",
              "      <td>N</td>\n",
              "      <td>E</td>\n",
              "      <td>805</td>\n",
              "      <td>40</td>\n",
              "      <td>4</td>\n",
              "      <td>91.5</td>\n",
              "      <td>N</td>\n",
              "      <td>4.516339</td>\n",
              "    </tr>\n",
              "    <tr>\n",
              "      <th>5</th>\n",
              "      <td>-Alfredo Griffin</td>\n",
              "      <td>594</td>\n",
              "      <td>169</td>\n",
              "      <td>4</td>\n",
              "      <td>74</td>\n",
              "      <td>51</td>\n",
              "      <td>35</td>\n",
              "      <td>11</td>\n",
              "      <td>4408</td>\n",
              "      <td>1133</td>\n",
              "      <td>19</td>\n",
              "      <td>501</td>\n",
              "      <td>336</td>\n",
              "      <td>194</td>\n",
              "      <td>A</td>\n",
              "      <td>W</td>\n",
              "      <td>282</td>\n",
              "      <td>421</td>\n",
              "      <td>25</td>\n",
              "      <td>750.0</td>\n",
              "      <td>A</td>\n",
              "      <td>6.620073</td>\n",
              "    </tr>\n",
              "  </tbody>\n",
              "</table>\n",
              "</div>"
            ],
            "text/plain": [
              "              Player  AtBat  Hits  HmRun  ...  Errors  Salary  NewLeague  logSalary\n",
              "1        -Alan Ashby    315    81      7  ...      10   475.0          N   6.163315\n",
              "2       -Alvin Davis    479   130     18  ...      14   480.0          A   6.173786\n",
              "3      -Andre Dawson    496   141     20  ...       3   500.0          N   6.214608\n",
              "4  -Andres Galarraga    321    87     10  ...       4    91.5          N   4.516339\n",
              "5   -Alfredo Griffin    594   169      4  ...      25   750.0          A   6.620073\n",
              "\n",
              "[5 rows x 22 columns]"
            ]
          },
          "metadata": {
            "tags": []
          },
          "execution_count": 2
        }
      ]
    },
    {
      "cell_type": "code",
      "metadata": {
        "id": "r4HuCMj_w0p3",
        "colab_type": "code",
        "colab": {
          "base_uri": "https://localhost:8080/",
          "height": 376
        },
        "outputId": "e29e0aad-5cfa-4d06-cb73-d16ce963350e"
      },
      "source": [
        "model = \"logSalary ~ Years + Hits\"\n",
        "y, X = patsy.dmatrices(model, data, return_type=\"dataframe\")\n",
        "X = X.drop('Intercept',axis=1) #Intercepts don't apply to decision trees, so remove them from the feature space.\n",
        "\n",
        "regr = DecisionTreeRegressor(max_leaf_nodes=3) #initiates the decision tree algorithm with leaf nodes no more than 3\n",
        "model = regr.fit(X,y) #model fitting\n",
        "\n",
        "#Visualization (https://medium.com/@rnbrown/creating-and-visualizing-decision-trees-with-python-f8e8fa394176)\n",
        "dot_data = StringIO()\n",
        "export_graphviz(model,out_file=dot_data)\n",
        "graph = pydotplus.graph_from_dot_data(dot_data.getvalue())  \n",
        "Image(graph.create_png())"
      ],
      "execution_count": 3,
      "outputs": [
        {
          "output_type": "execute_result",
          "data": {
            "image/png": "[encoded data removed]",
            "text/plain": [
              "<IPython.core.display.Image object>"
            ]
          },
          "metadata": {
            "tags": []
          },
          "execution_count": 3
        }
      ]
    },
    {
      "cell_type": "markdown",
      "metadata": {
        "id": "2ygfrVKW2mxG",
        "colab_type": "text"
      },
      "source": [
        "### **Classification Trees**\n",
        "\n",
        "Classification trees are similar in many respects to regression trees, except that they're used to predict a qualitative response. \n",
        "\n",
        "- Instead of the mean response as in the case of regression trees, the prediction for a given observation is the most commonly occuring class of training observations in the region to which it belongs.\n",
        "- Instead of the $RSS$, recursive binary splitting uses the **classification error rate** $E$, the fraction of the training observations in a given region that don't belong to the most common class within it:\n",
        "\n",
        "$$E = 1 - max_k(\\hat{p}_{mk})$$\n",
        "\n",
        "where $\\hat{p}_{mk}$ is the proportion of training observations in the $mth$ region that are from the $kth$ class. Note that $E$ has been shown to not be \"sufficiently sensitive\" for building classification trees. \n",
        "\n",
        "**There are two preferred alternatives to $E$:**\n",
        "\n",
        "1. The **Gini index** measures the total variance across the $K$ classes. It is a measure of **node purity**. The smaller the Gini index, the more there are observations of the same class within a node.\n",
        "\n",
        "$$G = \\sum^K_{k=1} \\hat{p}_{mk}(1 - \\hat{p}_{mk})$$\n",
        "\n",
        "2. **Entropy**\n",
        "\n",
        "$$D = -\\sum^K_{k=1} \\hat{p}_{mk}log\\hat{p}_{mk}$$\n",
        "\n",
        "It turns out that $G$ and $D$ are similar numerically, and either one can be used for recursive binary splitting. Both are more sensitive to node purity than $E$. **In classification trees, we want the nodes to be as pure as possible; that is, there are as much of the same classes within each node as possible (node purity). A small Gini index or entropy indicates high node purity.** \n",
        "\n",
        "There is no need to create dummy variables for categorical features in both regression and classification trees.\n",
        "\n"
      ]
    },
    {
      "cell_type": "markdown",
      "metadata": {
        "id": "o_skjdmu6vjs",
        "colab_type": "text"
      },
      "source": [
        "Advantages and Disadvantages of Decision Trees\n",
        "\n",
        "- Easy to explain and closely mirrors human decision making ($+$)\n",
        "- Interpretability and visualization ($+$)\n",
        "- Higher prediction error than other models ($-$)\n",
        "- Non-robust and unstable to small changes in the data ($-$)\n",
        "\n",
        "**At the expense of interpretability, there are three methods that can significantly improve the prediction accuracy of decision trees:**\n",
        "\n",
        "1. bagging\n",
        "2. boosting\n",
        "3. random forests\n",
        "\n"
      ]
    }
  ]
}
