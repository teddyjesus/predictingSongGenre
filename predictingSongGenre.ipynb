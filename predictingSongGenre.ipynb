{
  "nbformat": 4,
  "nbformat_minor": 0,
  "metadata": {
    "kernelspec": {
      "display_name": "Python 3",
      "language": "python",
      "name": "python3"
    },
    "language_info": {
      "codemirror_mode": {
        "name": "ipython",
        "version": 3
      },
      "file_extension": ".py",
      "mimetype": "text/x-python",
      "name": "python",
      "nbconvert_exporter": "python",
      "pygments_lexer": "ipython3",
      "version": "3.7.4"
    },
    "colab": {
      "name": "predictingSongGenre.ipynb",
      "provenance": [],
      "collapsed_sections": []
    }
  },
  "cells": [
    {
      "cell_type": "code",
      "metadata": {
        "id": "_ulTtrR-941B",
        "colab_type": "code",
        "colab": {}
      },
      "source": [
        "import pandas as pd\n",
        "import numpy as np\n",
        "import matplotlib.pyplot as plt\n",
        "import os\n",
        "\n",
        "from sklearn import tree\n",
        "from sklearn.model_selection import train_test_split\n",
        "from sklearn.tree import DecisionTreeClassifier\n",
        "from sklearn.metrics import accuracy_score\n",
        "\n",
        "from IPython.display import Image  \n",
        "import pydotplus"
      ],
      "execution_count": 0,
      "outputs": []
    },
    {
      "cell_type": "code",
      "metadata": {
        "id": "e4waJk7b-MB_",
        "colab_type": "code",
        "outputId": "cb27e431-6061-417e-ecc7-5bc496b2c569",
        "colab": {
          "base_uri": "https://localhost:8080/",
          "height": 35
        }
      },
      "source": [
        "from google.colab import drive\n",
        "drive.mount('/content/drive')"
      ],
      "execution_count": 0,
      "outputs": [
        {
          "output_type": "stream",
          "text": [
            "Drive already mounted at /content/drive; to attempt to forcibly remount, call drive.mount(\"/content/drive\", force_remount=True).\n"
          ],
          "name": "stdout"
        }
      ]
    },
    {
      "cell_type": "code",
      "metadata": {
        "id": "LlrOrkOL-UTT",
        "colab_type": "code",
        "outputId": "341964e9-15ac-4f45-9966-691eab355988",
        "colab": {
          "base_uri": "https://localhost:8080/",
          "height": 35
        }
      },
      "source": [
        "os.getcwd()"
      ],
      "execution_count": 0,
      "outputs": [
        {
          "output_type": "execute_result",
          "data": {
            "text/plain": [
              "'/content'"
            ]
          },
          "metadata": {
            "tags": []
          },
          "execution_count": 5
        }
      ]
    },
    {
      "cell_type": "code",
      "metadata": {
        "id": "CiXl0JBX941R",
        "colab_type": "code",
        "colab": {}
      },
      "source": [
        "dataUnstructured = pd.read_csv(\"/content/drive/My Drive/spotify.csv\")\n",
        "dataUnstructured = dataUnstructured.iloc[:,1:] #The first column were just row indices, so I removed it."
      ],
      "execution_count": 0,
      "outputs": []
    },
    {
      "cell_type": "markdown",
      "metadata": {
        "id": "y4apV6Lr941b",
        "colab_type": "text"
      },
      "source": [
        "First, I will check if any of the columns have any missing values."
      ]
    },
    {
      "cell_type": "code",
      "metadata": {
        "id": "Z3ZIzWzQ941f",
        "colab_type": "code",
        "outputId": "30f08854-8839-46ee-8369-71a9d7bdba95",
        "colab": {
          "base_uri": "https://localhost:8080/",
          "height": 723
        }
      },
      "source": [
        "for i in range(0,len(dataUnstructured.columns)):\n",
        "    missing = [0] * len(dataUnstructured.columns)\n",
        "    missing[i] = dataUnstructured.iloc[:,i].isna().sum()\n",
        "\n",
        "pd.DataFrame({\"Column\":dataUnstructured.columns,\"# of Missing Rows\":missing}) "
      ],
      "execution_count": 0,
      "outputs": [
        {
          "output_type": "execute_result",
          "data": {
            "text/html": [
              "<div>\n",
              "<style scoped>\n",
              "    .dataframe tbody tr th:only-of-type {\n",
              "        vertical-align: middle;\n",
              "    }\n",
              "\n",
              "    .dataframe tbody tr th {\n",
              "        vertical-align: top;\n",
              "    }\n",
              "\n",
              "    .dataframe thead th {\n",
              "        text-align: right;\n",
              "    }\n",
              "</style>\n",
              "<table border=\"1\" class=\"dataframe\">\n",
              "  <thead>\n",
              "    <tr style=\"text-align: right;\">\n",
              "      <th></th>\n",
              "      <th>Column</th>\n",
              "      <th># of Missing Rows</th>\n",
              "    </tr>\n",
              "  </thead>\n",
              "  <tbody>\n",
              "    <tr>\n",
              "      <th>0</th>\n",
              "      <td>album</td>\n",
              "      <td>0</td>\n",
              "    </tr>\n",
              "    <tr>\n",
              "      <th>1</th>\n",
              "      <td>artist</td>\n",
              "      <td>0</td>\n",
              "    </tr>\n",
              "    <tr>\n",
              "      <th>2</th>\n",
              "      <td>genre</td>\n",
              "      <td>0</td>\n",
              "    </tr>\n",
              "    <tr>\n",
              "      <th>3</th>\n",
              "      <td>track_name</td>\n",
              "      <td>0</td>\n",
              "    </tr>\n",
              "    <tr>\n",
              "      <th>4</th>\n",
              "      <td>acousticness</td>\n",
              "      <td>0</td>\n",
              "    </tr>\n",
              "    <tr>\n",
              "      <th>5</th>\n",
              "      <td>danceability</td>\n",
              "      <td>0</td>\n",
              "    </tr>\n",
              "    <tr>\n",
              "      <th>6</th>\n",
              "      <td>duration_ms</td>\n",
              "      <td>0</td>\n",
              "    </tr>\n",
              "    <tr>\n",
              "      <th>7</th>\n",
              "      <td>energy</td>\n",
              "      <td>0</td>\n",
              "    </tr>\n",
              "    <tr>\n",
              "      <th>8</th>\n",
              "      <td>instrumentalness</td>\n",
              "      <td>0</td>\n",
              "    </tr>\n",
              "    <tr>\n",
              "      <th>9</th>\n",
              "      <td>key</td>\n",
              "      <td>0</td>\n",
              "    </tr>\n",
              "    <tr>\n",
              "      <th>10</th>\n",
              "      <td>liveness</td>\n",
              "      <td>0</td>\n",
              "    </tr>\n",
              "    <tr>\n",
              "      <th>11</th>\n",
              "      <td>loudness</td>\n",
              "      <td>0</td>\n",
              "    </tr>\n",
              "    <tr>\n",
              "      <th>12</th>\n",
              "      <td>mode</td>\n",
              "      <td>0</td>\n",
              "    </tr>\n",
              "    <tr>\n",
              "      <th>13</th>\n",
              "      <td>speechiness</td>\n",
              "      <td>0</td>\n",
              "    </tr>\n",
              "    <tr>\n",
              "      <th>14</th>\n",
              "      <td>tempo</td>\n",
              "      <td>0</td>\n",
              "    </tr>\n",
              "    <tr>\n",
              "      <th>15</th>\n",
              "      <td>time_signature</td>\n",
              "      <td>0</td>\n",
              "    </tr>\n",
              "    <tr>\n",
              "      <th>16</th>\n",
              "      <td>valence</td>\n",
              "      <td>0</td>\n",
              "    </tr>\n",
              "    <tr>\n",
              "      <th>17</th>\n",
              "      <td>mood</td>\n",
              "      <td>0</td>\n",
              "    </tr>\n",
              "    <tr>\n",
              "      <th>18</th>\n",
              "      <td>track_id</td>\n",
              "      <td>0</td>\n",
              "    </tr>\n",
              "    <tr>\n",
              "      <th>19</th>\n",
              "      <td>index</td>\n",
              "      <td>0</td>\n",
              "    </tr>\n",
              "    <tr>\n",
              "      <th>20</th>\n",
              "      <td>energy_level</td>\n",
              "      <td>0</td>\n",
              "    </tr>\n",
              "    <tr>\n",
              "      <th>21</th>\n",
              "      <td>positivity_level</td>\n",
              "      <td>1101</td>\n",
              "    </tr>\n",
              "  </tbody>\n",
              "</table>\n",
              "</div>"
            ],
            "text/plain": [
              "              Column  # of Missing Rows\n",
              "0              album                  0\n",
              "1             artist                  0\n",
              "2              genre                  0\n",
              "3         track_name                  0\n",
              "4       acousticness                  0\n",
              "5       danceability                  0\n",
              "6        duration_ms                  0\n",
              "7             energy                  0\n",
              "8   instrumentalness                  0\n",
              "9                key                  0\n",
              "10          liveness                  0\n",
              "11          loudness                  0\n",
              "12              mode                  0\n",
              "13       speechiness                  0\n",
              "14             tempo                  0\n",
              "15    time_signature                  0\n",
              "16           valence                  0\n",
              "17              mood                  0\n",
              "18          track_id                  0\n",
              "19             index                  0\n",
              "20      energy_level                  0\n",
              "21  positivity_level               1101"
            ]
          },
          "metadata": {
            "tags": []
          },
          "execution_count": 8
        }
      ]
    },
    {
      "cell_type": "markdown",
      "metadata": {
        "id": "eTHb2Ok8941v",
        "colab_type": "text"
      },
      "source": [
        "Neither the outcome nor the features I'm interested in have any missing values. I decided to remove the columns that I won't be using, such that only the outcome and features remain in the data:"
      ]
    },
    {
      "cell_type": "code",
      "metadata": {
        "id": "eK9Qn3xT941x",
        "colab_type": "code",
        "outputId": "04e1433f-4214-4d99-d57e-67cf9ae8fdc9",
        "colab": {
          "base_uri": "https://localhost:8080/",
          "height": 202
        }
      },
      "source": [
        "relevantColumns = [\"genre\",\"acousticness\",\"danceability\",\"energy\",\"instrumentalness\",\n",
        "                   \"liveness\",\"loudness\",\"speechiness\",\"tempo\",\"valence\"]\n",
        "data=dataUnstructured.loc[:,relevantColumns]\n",
        "data.head()"
      ],
      "execution_count": 0,
      "outputs": [
        {
          "output_type": "execute_result",
          "data": {
            "text/html": [
              "<div>\n",
              "<style scoped>\n",
              "    .dataframe tbody tr th:only-of-type {\n",
              "        vertical-align: middle;\n",
              "    }\n",
              "\n",
              "    .dataframe tbody tr th {\n",
              "        vertical-align: top;\n",
              "    }\n",
              "\n",
              "    .dataframe thead th {\n",
              "        text-align: right;\n",
              "    }\n",
              "</style>\n",
              "<table border=\"1\" class=\"dataframe\">\n",
              "  <thead>\n",
              "    <tr style=\"text-align: right;\">\n",
              "      <th></th>\n",
              "      <th>genre</th>\n",
              "      <th>acousticness</th>\n",
              "      <th>danceability</th>\n",
              "      <th>energy</th>\n",
              "      <th>instrumentalness</th>\n",
              "      <th>liveness</th>\n",
              "      <th>loudness</th>\n",
              "      <th>speechiness</th>\n",
              "      <th>tempo</th>\n",
              "      <th>valence</th>\n",
              "    </tr>\n",
              "  </thead>\n",
              "  <tbody>\n",
              "    <tr>\n",
              "      <th>0</th>\n",
              "      <td>Pop</td>\n",
              "      <td>0.348</td>\n",
              "      <td>0.591</td>\n",
              "      <td>0.718</td>\n",
              "      <td>0.000118</td>\n",
              "      <td>0.107</td>\n",
              "      <td>-6.025</td>\n",
              "      <td>0.0368</td>\n",
              "      <td>117.995</td>\n",
              "      <td>0.468</td>\n",
              "    </tr>\n",
              "    <tr>\n",
              "      <th>1</th>\n",
              "      <td>Pop</td>\n",
              "      <td>0.133</td>\n",
              "      <td>0.568</td>\n",
              "      <td>0.686</td>\n",
              "      <td>0.000000</td>\n",
              "      <td>0.110</td>\n",
              "      <td>-4.901</td>\n",
              "      <td>0.0903</td>\n",
              "      <td>148.294</td>\n",
              "      <td>0.400</td>\n",
              "    </tr>\n",
              "    <tr>\n",
              "      <th>2</th>\n",
              "      <td>Pop</td>\n",
              "      <td>0.648</td>\n",
              "      <td>0.600</td>\n",
              "      <td>0.535</td>\n",
              "      <td>0.000005</td>\n",
              "      <td>0.162</td>\n",
              "      <td>-7.043</td>\n",
              "      <td>0.1070</td>\n",
              "      <td>71.912</td>\n",
              "      <td>0.269</td>\n",
              "    </tr>\n",
              "    <tr>\n",
              "      <th>3</th>\n",
              "      <td>Pop</td>\n",
              "      <td>0.779</td>\n",
              "      <td>0.587</td>\n",
              "      <td>0.299</td>\n",
              "      <td>0.000000</td>\n",
              "      <td>0.123</td>\n",
              "      <td>-7.365</td>\n",
              "      <td>0.0263</td>\n",
              "      <td>94.992</td>\n",
              "      <td>0.356</td>\n",
              "    </tr>\n",
              "    <tr>\n",
              "      <th>4</th>\n",
              "      <td>Pop</td>\n",
              "      <td>0.568</td>\n",
              "      <td>0.479</td>\n",
              "      <td>0.419</td>\n",
              "      <td>0.000217</td>\n",
              "      <td>0.110</td>\n",
              "      <td>-6.517</td>\n",
              "      <td>0.0389</td>\n",
              "      <td>85.014</td>\n",
              "      <td>0.186</td>\n",
              "    </tr>\n",
              "  </tbody>\n",
              "</table>\n",
              "</div>"
            ],
            "text/plain": [
              "  genre  acousticness  danceability  ...  speechiness    tempo  valence\n",
              "0   Pop         0.348         0.591  ...       0.0368  117.995    0.468\n",
              "1   Pop         0.133         0.568  ...       0.0903  148.294    0.400\n",
              "2   Pop         0.648         0.600  ...       0.1070   71.912    0.269\n",
              "3   Pop         0.779         0.587  ...       0.0263   94.992    0.356\n",
              "4   Pop         0.568         0.479  ...       0.0389   85.014    0.186\n",
              "\n",
              "[5 rows x 10 columns]"
            ]
          },
          "metadata": {
            "tags": []
          },
          "execution_count": 9
        }
      ]
    },
    {
      "cell_type": "markdown",
      "metadata": {
        "id": "DcXiHHRI9418",
        "colab_type": "text"
      },
      "source": [
        "The following table shows the mean of the audio features by genre:"
      ]
    },
    {
      "cell_type": "code",
      "metadata": {
        "id": "ru2Wh9KS941_",
        "colab_type": "code",
        "outputId": "357b8901-2d00-45f5-df7a-d34d0f42a729",
        "colab": {
          "base_uri": "https://localhost:8080/",
          "height": 325
        }
      },
      "source": [
        "data.groupby(\"genre\").agg(\"mean\").round(3).reset_index()"
      ],
      "execution_count": 0,
      "outputs": [
        {
          "output_type": "execute_result",
          "data": {
            "text/html": [
              "<div>\n",
              "<style scoped>\n",
              "    .dataframe tbody tr th:only-of-type {\n",
              "        vertical-align: middle;\n",
              "    }\n",
              "\n",
              "    .dataframe tbody tr th {\n",
              "        vertical-align: top;\n",
              "    }\n",
              "\n",
              "    .dataframe thead th {\n",
              "        text-align: right;\n",
              "    }\n",
              "</style>\n",
              "<table border=\"1\" class=\"dataframe\">\n",
              "  <thead>\n",
              "    <tr style=\"text-align: right;\">\n",
              "      <th></th>\n",
              "      <th>genre</th>\n",
              "      <th>acousticness</th>\n",
              "      <th>danceability</th>\n",
              "      <th>energy</th>\n",
              "      <th>instrumentalness</th>\n",
              "      <th>liveness</th>\n",
              "      <th>loudness</th>\n",
              "      <th>speechiness</th>\n",
              "      <th>tempo</th>\n",
              "      <th>valence</th>\n",
              "    </tr>\n",
              "  </thead>\n",
              "  <tbody>\n",
              "    <tr>\n",
              "      <th>0</th>\n",
              "      <td>Classical</td>\n",
              "      <td>0.961</td>\n",
              "      <td>0.317</td>\n",
              "      <td>0.118</td>\n",
              "      <td>0.768</td>\n",
              "      <td>0.147</td>\n",
              "      <td>-21.353</td>\n",
              "      <td>0.045</td>\n",
              "      <td>105.508</td>\n",
              "      <td>0.356</td>\n",
              "    </tr>\n",
              "    <tr>\n",
              "      <th>1</th>\n",
              "      <td>Country</td>\n",
              "      <td>0.169</td>\n",
              "      <td>0.562</td>\n",
              "      <td>0.706</td>\n",
              "      <td>0.004</td>\n",
              "      <td>0.183</td>\n",
              "      <td>-6.030</td>\n",
              "      <td>0.045</td>\n",
              "      <td>123.619</td>\n",
              "      <td>0.553</td>\n",
              "    </tr>\n",
              "    <tr>\n",
              "      <th>2</th>\n",
              "      <td>Gaming</td>\n",
              "      <td>0.242</td>\n",
              "      <td>0.555</td>\n",
              "      <td>0.613</td>\n",
              "      <td>0.246</td>\n",
              "      <td>0.169</td>\n",
              "      <td>-8.797</td>\n",
              "      <td>0.086</td>\n",
              "      <td>117.114</td>\n",
              "      <td>0.405</td>\n",
              "    </tr>\n",
              "    <tr>\n",
              "      <th>3</th>\n",
              "      <td>Hip Hop</td>\n",
              "      <td>0.136</td>\n",
              "      <td>0.720</td>\n",
              "      <td>0.744</td>\n",
              "      <td>0.004</td>\n",
              "      <td>0.233</td>\n",
              "      <td>-5.841</td>\n",
              "      <td>0.238</td>\n",
              "      <td>113.812</td>\n",
              "      <td>0.610</td>\n",
              "    </tr>\n",
              "    <tr>\n",
              "      <th>4</th>\n",
              "      <td>Jazz</td>\n",
              "      <td>0.659</td>\n",
              "      <td>0.562</td>\n",
              "      <td>0.328</td>\n",
              "      <td>0.585</td>\n",
              "      <td>0.158</td>\n",
              "      <td>-13.811</td>\n",
              "      <td>0.076</td>\n",
              "      <td>109.743</td>\n",
              "      <td>0.417</td>\n",
              "    </tr>\n",
              "    <tr>\n",
              "      <th>5</th>\n",
              "      <td>K-pop</td>\n",
              "      <td>0.312</td>\n",
              "      <td>0.632</td>\n",
              "      <td>0.687</td>\n",
              "      <td>0.002</td>\n",
              "      <td>0.185</td>\n",
              "      <td>-4.844</td>\n",
              "      <td>0.084</td>\n",
              "      <td>119.037</td>\n",
              "      <td>0.508</td>\n",
              "    </tr>\n",
              "    <tr>\n",
              "      <th>6</th>\n",
              "      <td>Pop</td>\n",
              "      <td>0.209</td>\n",
              "      <td>0.619</td>\n",
              "      <td>0.701</td>\n",
              "      <td>0.004</td>\n",
              "      <td>0.196</td>\n",
              "      <td>-5.747</td>\n",
              "      <td>0.069</td>\n",
              "      <td>121.724</td>\n",
              "      <td>0.531</td>\n",
              "    </tr>\n",
              "    <tr>\n",
              "      <th>7</th>\n",
              "      <td>Rock</td>\n",
              "      <td>0.103</td>\n",
              "      <td>0.502</td>\n",
              "      <td>0.753</td>\n",
              "      <td>0.039</td>\n",
              "      <td>0.183</td>\n",
              "      <td>-6.954</td>\n",
              "      <td>0.059</td>\n",
              "      <td>123.832</td>\n",
              "      <td>0.494</td>\n",
              "    </tr>\n",
              "    <tr>\n",
              "      <th>8</th>\n",
              "      <td>reggae</td>\n",
              "      <td>0.163</td>\n",
              "      <td>0.762</td>\n",
              "      <td>0.619</td>\n",
              "      <td>0.113</td>\n",
              "      <td>0.163</td>\n",
              "      <td>-8.213</td>\n",
              "      <td>0.127</td>\n",
              "      <td>118.844</td>\n",
              "      <td>0.738</td>\n",
              "    </tr>\n",
              "  </tbody>\n",
              "</table>\n",
              "</div>"
            ],
            "text/plain": [
              "       genre  acousticness  danceability  ...  speechiness    tempo  valence\n",
              "0  Classical         0.961         0.317  ...        0.045  105.508    0.356\n",
              "1    Country         0.169         0.562  ...        0.045  123.619    0.553\n",
              "2     Gaming         0.242         0.555  ...        0.086  117.114    0.405\n",
              "3    Hip Hop         0.136         0.720  ...        0.238  113.812    0.610\n",
              "4       Jazz         0.659         0.562  ...        0.076  109.743    0.417\n",
              "5      K-pop         0.312         0.632  ...        0.084  119.037    0.508\n",
              "6        Pop         0.209         0.619  ...        0.069  121.724    0.531\n",
              "7       Rock         0.103         0.502  ...        0.059  123.832    0.494\n",
              "8     reggae         0.163         0.762  ...        0.127  118.844    0.738\n",
              "\n",
              "[9 rows x 10 columns]"
            ]
          },
          "metadata": {
            "tags": []
          },
          "execution_count": 10
        }
      ]
    },
    {
      "cell_type": "code",
      "metadata": {
        "id": "ozLJ9MKN942I",
        "colab_type": "code",
        "outputId": "b06fd0f4-15c9-48dc-9065-a95ac8ea4453",
        "colab": {
          "base_uri": "https://localhost:8080/",
          "height": 607
        }
      },
      "source": [
        "dummy=np.array([\n",
        "    [\"acousticness\",\"danceability\",\"energy\"],\n",
        "    [\"instrumentalness\",\"liveness\",\"valence\"],\n",
        "    [\"speechiness\",\"loudness\",\"tempo\"]\n",
        "    ])\n",
        "\n",
        "fig,axis=plt.subplots(3,3,figsize=(10,10)) \n",
        "fig.subplots_adjust(hspace=0.65,wspace=0.65)\n",
        "\n",
        "for i in range(0,3):\n",
        "    for j in range(0,3):\n",
        "        axis[i,j].set_title(dummy[i,j])\n",
        "\n",
        "for i in range(0,3):\n",
        "    for j in range(0,3):\n",
        "        axis[i,j].hist(data[dummy[i,j]])"
      ],
      "execution_count": 0,
      "outputs": [
        {
          "output_type": "display_data",
          "data": {
            "image/png": "[encoded data removed]",
            "text/plain": [
              "<Figure size 720x720 with 9 Axes>"
            ]
          },
          "metadata": {
            "tags": []
          }
        }
      ]
    },
    {
      "cell_type": "markdown",
      "metadata": {
        "id": "yA8o0nDz942R",
        "colab_type": "text"
      },
      "source": [
        "### **Prediction of Song Genre Based on Audio Features**"
      ]
    },
    {
      "cell_type": "code",
      "metadata": {
        "id": "bQGT-tyZ942U",
        "colab_type": "code",
        "colab": {}
      },
      "source": [
        "y=data[\"genre\"]\n",
        "X=data.iloc[:,1:]\n",
        "X_train,X_test,y_train,y_test=train_test_split(X,y,test_size=0.20,random_state=42)"
      ],
      "execution_count": 0,
      "outputs": []
    },
    {
      "cell_type": "markdown",
      "metadata": {
        "id": "AUst3t1r942d",
        "colab_type": "text"
      },
      "source": [
        "**Classification Tree**"
      ]
    },
    {
      "cell_type": "code",
      "metadata": {
        "id": "3HSwZdBI942g",
        "colab_type": "code",
        "outputId": "2cbda173-ef5a-4932-812c-5e41c52dbf84",
        "colab": {
          "base_uri": "https://localhost:8080/",
          "height": 313
        }
      },
      "source": [
        "max_depth=list(range(1,51))\n",
        "accuracy=[0]*50\n",
        "for i in range(1,51):\n",
        "    classifier=DecisionTreeClassifier(max_features=None,splitter=\"best\",criterion=\"gini\",random_state=42,\n",
        "                                      max_depth=i)\n",
        "    fittedModel=classifier.fit(X_train,y_train)\n",
        "    predictions=fittedModel.predict(X_test)\n",
        "    accuracy[i-1]=accuracy_score(y_test,predictions).round(3)\n",
        "\n",
        "plt.plot(max_depth,accuracy)\n",
        "plt.xlabel(\"Max Depth\")\n",
        "plt.ylabel(\"Model Accuracy\")\n",
        "plt.title(\"Accuracy of Decision Tree by Max Depth\")"
      ],
      "execution_count": 0,
      "outputs": [
        {
          "output_type": "execute_result",
          "data": {
            "text/plain": [
              "Text(0.5, 1.0, 'Accuracy of Decision Tree by Max Depth')"
            ]
          },
          "metadata": {
            "tags": []
          },
          "execution_count": 14
        },
        {
          "output_type": "display_data",
          "data": {
            "image/png": "[encoded data removed]",
            "text/plain": [
              "<Figure size 432x288 with 1 Axes>"
            ]
          },
          "metadata": {
            "tags": []
          }
        }
      ]
    },
    {
      "cell_type": "markdown",
      "metadata": {
        "id": "CQu5l10d942q",
        "colab_type": "text"
      },
      "source": [
        "My decision tree's measure of accuracy is the proportion of observations that it correctly predicts. Recall that a prediction can be any one of the nine song genres, such that an accuracy higher than $\\frac{1}{9}$ would be better than randomly guessing.  Having varied the max depth (the tree's degree of complexicity) up to 50, model accuracy seems to be the highest at a max depth of around 7 or 8."
      ]
    },
    {
      "cell_type": "code",
      "metadata": {
        "id": "t0Pirt1D942t",
        "colab_type": "code",
        "outputId": "2f473742-0943-403f-a8bd-b6ccccd7729d",
        "colab": {
          "base_uri": "https://localhost:8080/",
          "height": 35
        }
      },
      "source": [
        "iterations=pd.DataFrame({\"Max Depth\":max_depth,\"Accuracy\":accuracy})\n",
        "iterations[\"Accuracy\"].idxmax() #returns the max_depth with the highest accuracy"
      ],
      "execution_count": 0,
      "outputs": [
        {
          "output_type": "execute_result",
          "data": {
            "text/plain": [
              "7"
            ]
          },
          "metadata": {
            "tags": []
          },
          "execution_count": 15
        }
      ]
    },
    {
      "cell_type": "code",
      "metadata": {
        "id": "3tU0CRpYAB8q",
        "colab_type": "code",
        "colab": {
          "base_uri": "https://localhost:8080/",
          "height": 69
        },
        "outputId": "37cb0c69-b7bb-4f3b-cf60-4f790fff73d1"
      },
      "source": [
        "iterations.iloc[6,:]"
      ],
      "execution_count": 20,
      "outputs": [
        {
          "output_type": "execute_result",
          "data": {
            "text/plain": [
              "Max Depth    7.000\n",
              "Accuracy     0.476\n",
              "Name: 6, dtype: float64"
            ]
          },
          "metadata": {
            "tags": []
          },
          "execution_count": 20
        }
      ]
    },
    {
      "cell_type": "code",
      "metadata": {
        "id": "JAXms_zX9425",
        "colab_type": "code",
        "outputId": "4ed4a81e-4ace-4136-d58c-f7594a33f566",
        "colab": {
          "base_uri": "https://localhost:8080/",
          "height": 121
        }
      },
      "source": [
        "finalClassifier=DecisionTreeClassifier(max_features=None,splitter=\"best\",criterion=\"gini\",random_state=42,\n",
        "                                       max_depth=7)\n",
        "fittedModel=finalClassifier.fit(X,y)\n",
        "fittedModel"
      ],
      "execution_count": 21,
      "outputs": [
        {
          "output_type": "execute_result",
          "data": {
            "text/plain": [
              "DecisionTreeClassifier(ccp_alpha=0.0, class_weight=None, criterion='gini',\n",
              "                       max_depth=7, max_features=None, max_leaf_nodes=None,\n",
              "                       min_impurity_decrease=0.0, min_impurity_split=None,\n",
              "                       min_samples_leaf=1, min_samples_split=2,\n",
              "                       min_weight_fraction_leaf=0.0, presort='deprecated',\n",
              "                       random_state=42, splitter='best')"
            ]
          },
          "metadata": {
            "tags": []
          },
          "execution_count": 21
        }
      ]
    },
    {
      "cell_type": "markdown",
      "metadata": {
        "id": "H3kTFhgd942_",
        "colab_type": "text"
      },
      "source": [
        "To see if we can improve the accuracy of our decision tree past 47%, let's now specify two more models:\n",
        "- Bagged Classification Tree\n",
        "- Boosted Classification Tree"
      ]
    },
    {
      "cell_type": "markdown",
      "metadata": {
        "id": "jL5eOYu7943B",
        "colab_type": "text"
      },
      "source": [
        "**Bagged Classification Tree**"
      ]
    }
  ]
}